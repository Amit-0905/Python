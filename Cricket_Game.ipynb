{
  "nbformat": 4,
  "nbformat_minor": 0,
  "metadata": {
    "colab": {
      "provenance": []
    },
    "kernelspec": {
      "name": "python3",
      "display_name": "Python 3"
    },
    "language_info": {
      "name": "python"
    }
  },
  "cells": [
    {
      "cell_type": "code",
      "source": [
        "import math\n",
        "import random as rnd"
      ],
      "metadata": {
        "id": "HBAOkK0h6t0e"
      },
      "execution_count": null,
      "outputs": []
    },
    {
      "cell_type": "code",
      "source": [
        "user_input = input(\"Choose either ODD or EVEN :\")"
      ],
      "metadata": {
        "colab": {
          "base_uri": "https://localhost:8080/"
        },
        "id": "krCEYjIq65yt",
        "outputId": "1467146e-a9f8-4a34-df39-0425c2649c05"
      },
      "execution_count": null,
      "outputs": [
        {
          "name": "stdout",
          "output_type": "stream",
          "text": [
            "Choose either ODD or EVEN :ODD\n"
          ]
        }
      ]
    },
    {
      "cell_type": "code",
      "source": [
        "# if user input = ODD the Comp_input =EVEN vice versa"
      ],
      "metadata": {
        "id": "XcG2GTAD7jQd"
      },
      "execution_count": null,
      "outputs": []
    },
    {
      "cell_type": "code",
      "source": [
        "def user():\n",
        "  user_number = int(input(\"Choose any number between 1 to 6 :\"))\n",
        "  if(user_number>6 or user_number<1):\n",
        "      print(\"Please enter correct input !!\")\n",
        "      user()\n",
        "  return user_number\n",
        "\n",
        "user_number = user()"
      ],
      "metadata": {
        "colab": {
          "base_uri": "https://localhost:8080/"
        },
        "id": "q3ROCR2S7uwR",
        "outputId": "3405bd7a-d3e7-44ea-f2ee-daddff6e7d4f"
      },
      "execution_count": null,
      "outputs": [
        {
          "name": "stdout",
          "output_type": "stream",
          "text": [
            "Choose any number between 1 to 6 :3\n"
          ]
        }
      ]
    },
    {
      "cell_type": "code",
      "source": [
        "computer_num=rnd.randint(1,6)"
      ],
      "metadata": {
        "id": "S-Xgx8Je8_VO"
      },
      "execution_count": null,
      "outputs": []
    },
    {
      "cell_type": "code",
      "source": [
        "sum = user_number + computer_num\n",
        "if(sum%2==0):\n",
        "  result = \"EVEN\"\n",
        "else:\n",
        "  result = \"ODD\""
      ],
      "metadata": {
        "id": "iuedHuoJ9NiK"
      },
      "execution_count": null,
      "outputs": []
    },
    {
      "cell_type": "code",
      "source": [
        "flag=False"
      ],
      "metadata": {
        "id": "LAz3EuBeAouy"
      },
      "execution_count": null,
      "outputs": []
    },
    {
      "cell_type": "code",
      "source": [
        "if(user_input==result):\n",
        "  print(\"User wins Toss !!!\")\n",
        "  flag=True\n",
        "  toss_res=input(\"Enter your choice BAT or BALL : \")\n",
        "else:\n",
        "  print(\"Computer wins Toss !!!\")\n",
        "  toss_res=rnd.choice([\"BAT\",\"BALL\"])"
      ],
      "metadata": {
        "colab": {
          "base_uri": "https://localhost:8080/"
        },
        "id": "uYVXCBpQ9qfW",
        "outputId": "22371611-377e-48f2-ff2c-e0bcea39a110"
      },
      "execution_count": null,
      "outputs": [
        {
          "output_type": "stream",
          "name": "stdout",
          "text": [
            "Computer wins Toss !!!\n"
          ]
        }
      ]
    },
    {
      "cell_type": "code",
      "source": [
        "def user_scr():\n",
        "  user_score=0\n",
        "  while(True):\n",
        "    user_choice=int(input(\"Choose any number between 1 to 6 : \"))\n",
        "    comp_choice=rnd.randint(1,6)\n",
        "    if(user_choice==comp_choice):\n",
        "      print(\" OUT !!\")\n",
        "      break;\n",
        "    else:\n",
        "      user_score=user_score+user_choice\n",
        "  return user_score"
      ],
      "metadata": {
        "id": "sLMm8jzPBmRu"
      },
      "execution_count": null,
      "outputs": []
    },
    {
      "cell_type": "code",
      "source": [
        "def comp_scr():\n",
        "  comp_score=0\n",
        "  while(True):\n",
        "    comp_choice=rnd.randint(1,6)\n",
        "    user_choice=int(input(\"Choose any number between 1 to 6 : \"))\n",
        "    if(user_choice==comp_choice):\n",
        "      print(\" OUT !!\")\n",
        "      break;\n",
        "    else:\n",
        "      comp_score=comp_score+comp_choice\n",
        "  return comp_score"
      ],
      "metadata": {
        "id": "sypiGcwDB8Oj"
      },
      "execution_count": null,
      "outputs": []
    },
    {
      "cell_type": "code",
      "source": [
        "user_score=0\n",
        "comp_score=0\n",
        "user_played=False\n",
        "66\n",
        "if((flag==True and toss_res==\"BAT\") or (flag==False and toss_res==\"BALL\")):\n",
        "  print(\"USER is Batting first\")\n",
        "  user_score=user_scr()\n",
        "  user_played=True\n",
        "else:\n",
        "  print(\"Computer is Batting first\")\n",
        "  comp_score = comp_scr()"
      ],
      "metadata": {
        "colab": {
          "base_uri": "https://localhost:8080/"
        },
        "id": "2GHamIqY-YTA",
        "outputId": "47f3f07f-26ea-4061-fe8d-8efb10601576"
      },
      "execution_count": null,
      "outputs": [
        {
          "output_type": "stream",
          "name": "stdout",
          "text": [
            "USER is Batting first\n",
            "Choose any number between 1 to 6 : 4\n",
            "Choose any number between 1 to 6 : 2\n",
            "Choose any number between 1 to 6 : 4\n",
            "Choose any number between 1 to 6 : 6\n",
            "Choose any number between 1 to 6 : 4\n",
            " OUT !!\n"
          ]
        }
      ]
    },
    {
      "cell_type": "code",
      "source": [
        "if(user_played):\n",
        "  print(\"user has scored {} runs \".format(user_score))\n",
        "  comp_score=comp_scr()\n",
        "else:\n",
        "  print(\"Computer has scored {} runs \".format(comp_score))\n",
        "  user_score=user_scr()"
      ],
      "metadata": {
        "colab": {
          "base_uri": "https://localhost:8080/"
        },
        "id": "Z3eq4tENCco2",
        "outputId": "bc2eec4a-013f-4020-d6ca-cd33f8a04d4c"
      },
      "execution_count": null,
      "outputs": [
        {
          "output_type": "stream",
          "name": "stdout",
          "text": [
            "user has scored 16 runs \n",
            "Choose any number between 1 to 6 : 3\n",
            " OUT !!\n"
          ]
        }
      ]
    },
    {
      "cell_type": "code",
      "source": [
        "print(\"User Score : {} \".format(user_score))\n",
        "print(\"Computer Score : {} \".format(comp_score))\n",
        "if(user_score>comp_score):\n",
        "  print(\" YOU WINS !!!!!!!!!\")\n",
        "elif(user_score<comp_score):\n",
        "  print(\" YOU LOST \")\n",
        "else:\n",
        "  print(\"Match Tied\")"
      ],
      "metadata": {
        "colab": {
          "base_uri": "https://localhost:8080/"
        },
        "id": "15rtIVyCKeDW",
        "outputId": "2b361a50-c32a-42b9-83f5-dd2d4e7f6b3e"
      },
      "execution_count": null,
      "outputs": [
        {
          "output_type": "stream",
          "name": "stdout",
          "text": [
            "User Score : 16 \n",
            "Computer Score : 0 \n",
            " YOU WINS !!!!!!!!!\n"
          ]
        }
      ]
    }
  ]
}